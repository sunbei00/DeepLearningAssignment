{
 "cells": [
  {
   "cell_type": "markdown",
   "source": [
    "# Full Code"
   ],
   "metadata": {
    "collapsed": false
   },
   "id": "8d0ea7e907015445"
  },
  {
   "cell_type": "markdown",
   "source": [
    "## Init Setting"
   ],
   "metadata": {
    "collapsed": false
   },
   "id": "91f87f283457ebd6"
  },
  {
   "cell_type": "code",
   "execution_count": 34,
   "outputs": [
    {
     "name": "stdout",
     "output_type": "stream",
     "text": [
      "C:\\Users\\00kwo\\Desktop\\딥러닝\\link_dl\n",
      "C:\\Users\\00kwo\\Desktop\n",
      "C:\\Users\\00kwo\\Desktop\\checkpoints\n"
     ]
    }
   ],
   "source": [
    "import os\n",
    "import torch\n",
    "import wandb\n",
    "import argparse\n",
    "import numpy as np\n",
    "\n",
    "from matplotlib import pyplot as plt\n",
    "from pathlib import Path\n",
    "from datetime import datetime\n",
    "from torch import nn\n",
    "from torch.utils.data import DataLoader, random_split\n",
    "from torchvision import datasets\n",
    "from torchvision.transforms import transforms\n",
    "from torchinfo import summary\n",
    "from random import randint\n",
    "\n",
    "\n",
    "FILE_PATH = str(Path('C:/Users/00kwo/Desktop').resolve())\n",
    "#FILE_PATH = 'C:/Users/KwonSungMin/Desktop'\n",
    "BASE_PATH = str(Path('../../').resolve())\n",
    "\n",
    "import sys\n",
    "sys.path.append(BASE_PATH)\n",
    "CHECKPOINT_FILE_PATH = os.path.join(FILE_PATH, \"checkpoints\")\n",
    "  \n",
    "print(BASE_PATH)\n",
    "print(FILE_PATH)\n",
    "print(CHECKPOINT_FILE_PATH)"
   ],
   "metadata": {
    "collapsed": false,
    "ExecuteTime": {
     "end_time": "2023-11-17T08:44:07.692543300Z",
     "start_time": "2023-11-17T08:44:07.647728100Z"
    }
   },
   "id": "5d845e1edb80f26"
  },
  {
   "cell_type": "markdown",
   "source": [
    "### DATA String "
   ],
   "metadata": {
    "collapsed": false
   },
   "id": "41965eead29b7402"
  },
  {
   "cell_type": "code",
   "execution_count": 2,
   "outputs": [],
   "source": [
    "from string import Template\n",
    "class DeltaTemplate(Template):\n",
    "    delimiter = \"%\"\n",
    "\n",
    "    def strfdelta(tdelta, fmt):\n",
    "        d = {\"D\": tdelta.days}\n",
    "        d[\"H\"], rem = divmod(tdelta.seconds, 3600)\n",
    "        d[\"M\"], d[\"S\"] = divmod(rem, 60)\n",
    "        t = DeltaTemplate(fmt)\n",
    "        return t.substitute(**d)\n",
    "def strfdelta(td, fmt):\n",
    "\n",
    "    # Get the timedelta’s sign and absolute number of seconds.\n",
    "    sign = \"-\" if td.days < 0 else \"+\"\n",
    "    secs = abs(td).total_seconds()\n",
    "\n",
    "    # Break the seconds into more readable quantities.\n",
    "    days, rem = divmod(secs, 86400)  # Seconds per day: 24 * 60 * 60\n",
    "    hours, rem = divmod(rem, 3600)  # Seconds per hour: 60 * 60\n",
    "    mins, secs = divmod(rem, 60)\n",
    "\n",
    "    # Format (as per above answers) and return the result string.\n",
    "    t = DeltaTemplate(fmt)\n",
    "    return t.substitute(\n",
    "        s=sign,\n",
    "        D=\"{:d}\".format(int(days)),\n",
    "        H=\"{:02d}\".format(int(hours)),\n",
    "        M=\"{:02d}\".format(int(mins)),\n",
    "        S=\"{:02d}\".format(int(secs)),\n",
    "        )"
   ],
   "metadata": {
    "collapsed": false,
    "ExecuteTime": {
     "end_time": "2023-11-17T08:09:03.658467400Z",
     "start_time": "2023-11-17T08:09:03.619303600Z"
    }
   },
   "id": "84223aabb9b69adf"
  },
  {
   "cell_type": "markdown",
   "source": [
    "## Arg Parser"
   ],
   "metadata": {
    "collapsed": false
   },
   "id": "e0db8c9e07bb650d"
  },
  {
   "cell_type": "code",
   "execution_count": 3,
   "outputs": [],
   "source": [
    "def get_parser():\n",
    "  parser = argparse.ArgumentParser()\n",
    "\n",
    "  parser.add_argument(\n",
    "    \"--wandb\", action=argparse.BooleanOptionalAction, default=False, help=\"Wandb: True or False\"\n",
    "  )\n",
    "\n",
    "  parser.add_argument(\n",
    "    \"-b\", \"--batch_size\", type=int, default=2_048, help=\"Batch size (int, default: 2_048)\"\n",
    "  )\n",
    "\n",
    "  parser.add_argument(\n",
    "    \"-e\", \"--epochs\", type=int, default=10_000, help=\"Number of training epochs (int, default:10_000)\"\n",
    "  )\n",
    "\n",
    "  parser.add_argument(\n",
    "    \"-r\", \"--learning_rate\", type=float, default=1e-3, help=\"Learning rate (float, default: 1e-3)\"\n",
    "  )\n",
    "\n",
    "  parser.add_argument(\n",
    "    \"-v\", \"--validation_intervals\", type=int, default=10,\n",
    "    help=\"Number of training epochs between validations (int, default: 10)\"\n",
    "  )\n",
    "\n",
    "  parser.add_argument(\n",
    "    \"-p\", \"--early_stop_patience\", type=int, default=10,\n",
    "    help=\"Number of early stop patience (int, default: 10)\"\n",
    "  )\n",
    "\n",
    "  parser.add_argument(\n",
    "    \"-d\", \"--early_stop_delta\", type=float, default=0.00001,\n",
    "    help=\"Delta value of early stop (float, default: 0.00001)\"\n",
    "  )\n",
    "\n",
    "  parser.add_argument(\n",
    "    \"-w\", \"--weight_decay\", type=float, default=0.0, help=\"Weight decay (float, default: 0.0)\"\n",
    "  )\n",
    "\n",
    "  parser.add_argument(\n",
    "    \"--dropout\", action=argparse.BooleanOptionalAction, default=False, help=\"Dropout: True or False\"\n",
    "  )\n",
    "\n",
    "  return parser"
   ],
   "metadata": {
    "collapsed": false,
    "ExecuteTime": {
     "end_time": "2023-11-17T08:09:03.659492400Z",
     "start_time": "2023-11-17T08:09:03.634531600Z"
    }
   },
   "id": "20db607c236a44b9"
  },
  {
   "cell_type": "markdown",
   "source": [
    "## Load Dataset"
   ],
   "metadata": {
    "collapsed": false
   },
   "id": "a518b777238c4d73"
  },
  {
   "cell_type": "code",
   "execution_count": 17,
   "id": "initial_id",
   "metadata": {
    "collapsed": true,
    "ExecuteTime": {
     "end_time": "2023-11-17T08:15:43.839235900Z",
     "start_time": "2023-11-17T08:15:43.823961300Z"
    }
   },
   "outputs": [],
   "source": [
    "from _01_code._99_common_utils.utils import get_num_cpu_cores, is_linux, is_windows\n",
    "\n",
    "mean = 0.0\n",
    "variance = 0.0\n",
    "\n",
    "def get_fashion_mnist_data():\n",
    "  data_path = os.path.join(BASE_PATH, \"_00_data\", \"j_fashion_mnist\")\n",
    "\n",
    "  f_mnist_train = datasets.FashionMNIST(data_path, train=True, download=True, transform=transforms.ToTensor())\n",
    "  f_mnist_train, f_mnist_validation = random_split(f_mnist_train, [55_000, 5_000])\n",
    "\n",
    "  print(\"Num Train Samples: \", len(f_mnist_train))\n",
    "  print(\"Num Validation Samples: \", len(f_mnist_validation))\n",
    "  print(\"Sample Shape: \", f_mnist_train[0][0].shape)  # torch.Size([1, 28, 28])\n",
    "\n",
    "  num_data_loading_workers =  get_num_cpu_cores() if is_linux() or is_windows() else 0\n",
    "  print(\"Number of Data Loading Workers:\", num_data_loading_workers)\n",
    "\n",
    "  train_data_loader = DataLoader(\n",
    "    dataset=f_mnist_train, batch_size=wandb.config.batch_size, shuffle=True,\n",
    "    pin_memory=True, num_workers=num_data_loading_workers\n",
    "  )\n",
    "\n",
    "  global mean, variance\n",
    "  mean = 0.0\n",
    "  num = 0\n",
    "  for i in range(len(f_mnist_train)):\n",
    "      image, label = f_mnist_train[i]\n",
    "      mean += image.sum()  \n",
    "      num += image.numel() \n",
    "  mean /= num\n",
    "  for i in range(len(f_mnist_train)):\n",
    "    image, label = f_mnist_train[i]\n",
    "    variance += ((image - mean) ** 2).sum()\n",
    "  variance /= num\n",
    "\n",
    "  validation_data_loader = DataLoader(\n",
    "    dataset=f_mnist_validation, batch_size=wandb.config.batch_size,\n",
    "    pin_memory=True, num_workers=num_data_loading_workers\n",
    "  )\n",
    "\n",
    "  f_mnist_transforms = nn.Sequential(\n",
    "    transforms.ConvertImageDtype(torch.float),\n",
    "    transforms.Normalize(mean=mean, std=variance), # mean = 0.2860 , variance = 0.1246\n",
    "  )\n",
    "\n",
    "  return train_data_loader, validation_data_loader, f_mnist_transforms\n",
    "\n",
    "\n",
    "def get_fashion_mnist_test_data():\n",
    "  data_path = os.path.join(BASE_PATH, \"_00_data\", \"j_fashion_mnist\")\n",
    "\n",
    "  f_mnist_test_images = datasets.FashionMNIST(data_path, train=False, download=True)\n",
    "  f_mnist_test = datasets.FashionMNIST(data_path, train=False, download=True, transform=transforms.ToTensor())\n",
    "\n",
    "  print(\"Num Test Samples: \", len(f_mnist_test))\n",
    "  print(\"Sample Shape: \", f_mnist_test[0][0].shape)  # torch.Size([1, 28, 28])\n",
    "\n",
    "  test_data_loader = DataLoader(dataset=f_mnist_test, batch_size=len(f_mnist_test))\n",
    "\n",
    "  f_mnist_transforms = nn.Sequential(\n",
    "    transforms.ConvertImageDtype(torch.float),\n",
    "    transforms.Normalize(mean=0.2860, std=0.1246),\n",
    "  )\n",
    "\n",
    "  return f_mnist_test_images, test_data_loader, f_mnist_transforms"
   ]
  },
  {
   "cell_type": "markdown",
   "source": [
    "## Model"
   ],
   "metadata": {
    "collapsed": false
   },
   "id": "a3dc12919790c61f"
  },
  {
   "cell_type": "code",
   "execution_count": 5,
   "outputs": [],
   "source": [
    "def get_model():\n",
    "  class MyModel(nn.Module):\n",
    "    def __init__(self, in_channels, n_output):\n",
    "      super().__init__()\n",
    "      self.model = nn.Sequential(\n",
    "        # batch*1*28*28\n",
    "        nn.Conv2d(in_channels=in_channels, out_channels=8, kernel_size=(5, 5), stride=(1, 1)),\n",
    "        # batch*8*24*24\n",
    "        nn.BatchNorm2d(num_features=8),\n",
    "        nn.ReLU(),\n",
    "        nn.MaxPool2d(kernel_size=2, stride=2),\n",
    "        # batch*8*12*12\n",
    "        nn.Dropout(0.5),\n",
    "        nn.Conv2d(in_channels=8, out_channels=16, kernel_size=(5, 5), stride=(1, 1)),\n",
    "        # batch16*8*8\n",
    "        nn.BatchNorm2d(num_features=16),\n",
    "        nn.ReLU(),\n",
    "        nn.MaxPool2d(kernel_size=2, stride=2),\n",
    "        # batch*16*4*4\n",
    "        nn.Flatten(),\n",
    "        nn.Linear(in_features=256, out_features=128),\n",
    "        nn.BatchNorm1d(num_features=128),\n",
    "        nn.ReLU(),\n",
    "        nn.Linear(in_features=128, out_features=64),\n",
    "        nn.BatchNorm1d(num_features=64),\n",
    "        nn.ReLU(),\n",
    "        nn.Linear(in_features=64, out_features=n_output),\n",
    "      )\n",
    "\n",
    "    def forward(self, x):\n",
    "      x = self.model(x)\n",
    "      return x\n",
    "      \n",
    "  my_model = MyModel(in_channels=1, n_output=10)\n",
    "  return my_model"
   ],
   "metadata": {
    "collapsed": false,
    "ExecuteTime": {
     "end_time": "2023-11-17T08:09:04.202979400Z",
     "start_time": "2023-11-17T08:09:04.185843700Z"
    }
   },
   "id": "f71b2a0759c7bc04"
  },
  {
   "cell_type": "markdown",
   "source": [
    "## Early stopping & Model saving"
   ],
   "metadata": {
    "collapsed": false
   },
   "id": "2276ce6abe3b8b24"
  },
  {
   "cell_type": "code",
   "execution_count": 6,
   "outputs": [],
   "source": [
    "class EarlyStopping:\n",
    "  def __init__(self, patience=10, delta=0.00001, project_name=None, checkpoint_file_path=None, run_time_str=None):\n",
    "    self.patience = patience\n",
    "    self.counter = 0\n",
    "    self.delta = delta\n",
    "\n",
    "    self.val_loss_min = None\n",
    "    \n",
    "    if not os.path.isdir(checkpoint_file_path):\n",
    "      os.makedirs(checkpoint_file_path)\n",
    "      \n",
    "    self.file_path = os.path.join(\n",
    "      checkpoint_file_path, f\"{project_name}_checkpoint_{run_time_str}.pt\"\n",
    "    )\n",
    "    self.latest_file_path = os.path.join(\n",
    "      checkpoint_file_path, f\"{project_name}_checkpoint_latest.pt\"\n",
    "    )\n",
    "\n",
    "  def check_and_save(self, new_validation_loss, model):\n",
    "    early_stop = False\n",
    "        \n",
    "    if self.val_loss_min is None:\n",
    "      self.val_loss_min = new_validation_loss\n",
    "      message = f'Early stopping is stated!'\n",
    "    elif new_validation_loss < self.val_loss_min - self.delta:\n",
    "      message = f'V_loss decreased ({self.val_loss_min:7.5f} --> {new_validation_loss:7.5f}). Saving model...'\n",
    "      self.save_checkpoint(new_validation_loss, model)\n",
    "      self.val_loss_min = new_validation_loss\n",
    "      self.counter = 0\n",
    "    else:\n",
    "      self.counter += 1\n",
    "      message = f'Early stopping counter: {self.counter} out of {self.patience}'\n",
    "      if self.counter >= self.patience:\n",
    "        early_stop = True\n",
    "        message += \" *** TRAIN EARLY STOPPED! ***\"\n",
    "    return message, early_stop\n",
    "\n",
    "  def save_checkpoint(self, val_loss, model):\n",
    "    torch.save(model.state_dict(), self.file_path)\n",
    "    torch.save(model.state_dict(), self.latest_file_path)\n",
    "    self.val_loss_min = val_loss"
   ],
   "metadata": {
    "collapsed": false,
    "ExecuteTime": {
     "end_time": "2023-11-17T08:09:05.627505800Z",
     "start_time": "2023-11-17T08:09:05.589430500Z"
    }
   },
   "id": "f4472168e2c1820a"
  },
  {
   "cell_type": "markdown",
   "source": [
    "## Training"
   ],
   "metadata": {
    "collapsed": false
   },
   "id": "76a5c5411c7b64a8"
  },
  {
   "cell_type": "code",
   "execution_count": 7,
   "outputs": [],
   "source": [
    "class ClassificationTrainer:\n",
    "  def __init__(\n",
    "    self, project_name, model, optimizer, train_data_loader, validation_data_loader, transforms,\n",
    "    run_time_str, wandb, device, checkpoint_file_path\n",
    "  ):\n",
    "    self.project_name = project_name\n",
    "    self.model = model\n",
    "    self.optimizer = optimizer\n",
    "    self.train_data_loader = train_data_loader\n",
    "    self.validation_data_loader = validation_data_loader\n",
    "    self.transforms = transforms\n",
    "    self.run_time_str = run_time_str\n",
    "    self.wandb = wandb\n",
    "    self.device = device\n",
    "    self.checkpoint_file_path = checkpoint_file_path\n",
    "\n",
    "    # Use a built-in loss function\n",
    "    self.loss_fn = nn.CrossEntropyLoss()\n",
    "\n",
    "  def do_train(self):\n",
    "    self.model.train() \n",
    "\n",
    "    loss_train = 0.0\n",
    "    num_corrects_train = 0\n",
    "    num_trained_samples = 0\n",
    "    num_trains = 0\n",
    "\n",
    "    for train_batch in self.train_data_loader:\n",
    "      input_train, target_train = train_batch\n",
    "      input_train = input_train.to(device=self.device)\n",
    "      target_train = target_train.to(device=self.device)\n",
    "\n",
    "      if self.transforms:\n",
    "        input_train = self.transforms(input_train)\n",
    "\n",
    "      output_train = self.model(input_train)\n",
    "\n",
    "      loss = self.loss_fn(output_train, target_train)\n",
    "      loss_train += loss.item()\n",
    "\n",
    "      predicted_train = torch.argmax(output_train, dim=1)\n",
    "      num_corrects_train += torch.sum(torch.eq(predicted_train, target_train)).item()\n",
    "\n",
    "      num_trained_samples += len(input_train)\n",
    "      num_trains += 1\n",
    "\n",
    "      self.optimizer.zero_grad()\n",
    "      loss.backward()\n",
    "      self.optimizer.step()\n",
    "\n",
    "    train_loss = loss_train / num_trains\n",
    "    train_accuracy = 100.0 * num_corrects_train / num_trained_samples\n",
    "\n",
    "    return train_loss, train_accuracy\n",
    "\n",
    "  def do_validation(self):\n",
    "    self.model.eval()  \n",
    "\n",
    "    loss_validation = 0.0\n",
    "    num_corrects_validation = 0\n",
    "    num_validated_samples = 0\n",
    "    num_validations = 0\n",
    "\n",
    "    with torch.no_grad():\n",
    "      for validation_batch in self.validation_data_loader:\n",
    "        input_validation, target_validation = validation_batch\n",
    "        input_validation = input_validation.to(device=self.device)\n",
    "        target_validation = target_validation.to(device=self.device)\n",
    "\n",
    "        if self.transforms:\n",
    "          input_validation = self.transforms(input_validation)\n",
    "\n",
    "        output_validation = self.model(input_validation)\n",
    "        loss_validation += self.loss_fn(output_validation, target_validation).item()\n",
    "\n",
    "        predicted_validation = torch.argmax(output_validation, dim=1)\n",
    "        num_corrects_validation += torch.sum(torch.eq(predicted_validation, target_validation)).item()\n",
    "\n",
    "        num_validated_samples += len(input_validation)\n",
    "        num_validations += 1\n",
    "\n",
    "    validation_loss = loss_validation / num_validations\n",
    "    validation_accuracy = 100.0 * num_corrects_validation / num_validated_samples\n",
    "\n",
    "    return validation_loss, validation_accuracy\n",
    "\n",
    "  def train_loop(self):\n",
    "    early_stopping = EarlyStopping(\n",
    "      patience=self.wandb.config.early_stop_patience,\n",
    "      delta=self.wandb.config.early_stop_delta,\n",
    "      project_name=self.project_name,\n",
    "      checkpoint_file_path=self.checkpoint_file_path,\n",
    "      run_time_str=self.run_time_str\n",
    "    )\n",
    "    n_epochs = self.wandb.config.epochs\n",
    "    training_start_time = datetime.now()\n",
    "\n",
    "    for epoch in range(1, n_epochs + 1):\n",
    "      train_loss, train_accuracy = self.do_train()\n",
    "\n",
    "      if epoch == 1 or epoch % self.wandb.config.validation_intervals == 0:\n",
    "        validation_loss, validation_accuracy = self.do_validation()\n",
    "\n",
    "        elapsed_time = datetime.now() - training_start_time\n",
    "        epoch_per_second = 0 if elapsed_time.seconds == 0 else epoch / elapsed_time.seconds\n",
    "\n",
    "        message, early_stop = early_stopping.check_and_save(validation_loss, self.model)\n",
    "\n",
    "        print(\n",
    "          f\"[Epoch {epoch:>3}] \"\n",
    "          f\"T_loss: {train_loss:7.5f}, \"\n",
    "          f\"T_accuracy: {train_accuracy:6.4f} | \"\n",
    "          f\"V_loss: {validation_loss:7.5f}, \"\n",
    "          f\"V_accuracy: {validation_accuracy:6.4f} | \"\n",
    "          f\"{message} | \"\n",
    "          f\"T_time: {strfdelta(elapsed_time, '%H:%M:%S')}, \"\n",
    "          f\"T_speed: {epoch_per_second:4.3f}\"\n",
    "        )\n",
    "\n",
    "        self.wandb.log({\n",
    "          \"Epoch\": epoch,\n",
    "          \"Training loss\": train_loss,\n",
    "          \"Training accuracy (%)\": train_accuracy,\n",
    "          \"Validation loss\": validation_loss,\n",
    "          \"Validation accuracy (%)\": validation_accuracy,\n",
    "          \"Training speed (epochs/sec.)\": epoch_per_second,\n",
    "        })\n",
    "\n",
    "        if early_stop:\n",
    "          break"
   ],
   "metadata": {
    "collapsed": false,
    "ExecuteTime": {
     "end_time": "2023-11-17T08:09:07.254619700Z",
     "start_time": "2023-11-17T08:09:07.242513500Z"
    }
   },
   "id": "b782100a14c34afe"
  },
  {
   "cell_type": "markdown",
   "source": [
    "## Training Entry point"
   ],
   "metadata": {
    "collapsed": false
   },
   "id": "44f36a1438b8da3d"
  },
  {
   "cell_type": "code",
   "execution_count": 8,
   "outputs": [],
   "source": [
    "def main(args):\n",
    "  run_time_str = datetime.now().astimezone().strftime('%Y-%m-%d_%H-%M-%S')\n",
    "\n",
    "  config = {\n",
    "    'epochs': args.epochs,\n",
    "    'batch_size': args.batch_size,\n",
    "    'validation_intervals': args.validation_intervals,\n",
    "    'learning_rate': args.learning_rate,\n",
    "    'early_stop_patience': args.early_stop_patience,\n",
    "    'early_stop_delta': args.early_stop_delta,\n",
    "    'weight_decay': args.weight_decay,\n",
    "  }\n",
    "\n",
    "  project_name = \"homework03_mnist\"\n",
    "  wandb.init(\n",
    "    mode=\"online\" if args.wandb else \"disabled\",\n",
    "    project=project_name,\n",
    "    notes=\"2019136011 homework03\",\n",
    "    tags=[\"cnn\", \"mnist\"],\n",
    "    name=run_time_str,\n",
    "    config=config\n",
    "  )\n",
    "  print(args)\n",
    "  print(wandb.config)\n",
    "\n",
    "  device = torch.device(\"cuda:0\" if torch.cuda.is_available() else \"cpu\")\n",
    "  print(f\"Training on device {device}.\")\n",
    "\n",
    "  train_data_loader, validation_data_loader, f_mnist_transforms = get_fashion_mnist_data()\n",
    "  print()\n",
    "  f_mnist_test_images, test_data_loader, f_mnist_transforms = get_fashion_mnist_test_data()\n",
    "  \n",
    "  print(\"------------------------\")\n",
    "  print(\"mean : \", mean)\n",
    "  print(\"variance\", variance)\n",
    "  print(\"------------------------\")\n",
    "\n",
    "  model = get_model()\n",
    "  model.to(device)\n",
    "  wandb.watch(model)\n",
    "\n",
    "  summary(model=model, input_size=(1, 1, 28, 28))\n",
    "\n",
    "  optimizer = torch.optim.Adam(model.parameters(), lr=wandb.config.learning_rate, weight_decay=args.weight_decay)\n",
    "\n",
    "  classification_trainer = ClassificationTrainer(\n",
    "    project_name, model, optimizer, train_data_loader, validation_data_loader, f_mnist_transforms,\n",
    "    run_time_str, wandb, device, CHECKPOINT_FILE_PATH\n",
    "  )\n",
    "  classification_trainer.train_loop()\n",
    "\n",
    "  wandb.finish()"
   ],
   "metadata": {
    "collapsed": false,
    "ExecuteTime": {
     "end_time": "2023-11-17T08:09:10.885762100Z",
     "start_time": "2023-11-17T08:09:10.873881800Z"
    }
   },
   "id": "553b0b6063091289"
  },
  {
   "cell_type": "markdown",
   "source": [
    "## Training Entry"
   ],
   "metadata": {
    "collapsed": false
   },
   "id": "f257d0fabfa877a"
  },
  {
   "cell_type": "code",
   "execution_count": 9,
   "outputs": [
    {
     "name": "stderr",
     "output_type": "stream",
     "text": [
      "\u001B[34m\u001B[1mwandb\u001B[0m: Currently logged in as: \u001B[33m00kwonsm\u001B[0m. Use \u001B[1m`wandb login --relogin`\u001B[0m to force relogin\n"
     ]
    },
    {
     "data": {
      "text/plain": "VBox(children=(Label(value='Waiting for wandb.init()...\\r'), FloatProgress(value=0.011288888888888791, max=1.0…",
      "application/vnd.jupyter.widget-view+json": {
       "version_major": 2,
       "version_minor": 0,
       "model_id": "12b392221059443092609ca87a3bf61c"
      }
     },
     "metadata": {},
     "output_type": "display_data"
    },
    {
     "data": {
      "text/plain": "<IPython.core.display.HTML object>",
      "text/html": "wandb version 0.16.0 is available!  To upgrade, please run:\n $ pip install wandb --upgrade"
     },
     "metadata": {},
     "output_type": "display_data"
    },
    {
     "data": {
      "text/plain": "<IPython.core.display.HTML object>",
      "text/html": "Tracking run with wandb version 0.15.12"
     },
     "metadata": {},
     "output_type": "display_data"
    },
    {
     "data": {
      "text/plain": "<IPython.core.display.HTML object>",
      "text/html": "Run data is saved locally in <code>C:\\Users\\KwonSungMin\\Desktop\\딥러닝\\link_dl\\_02_homeworks\\_03_fashion_mnist\\wandb\\run-20231117_010542-fknzcgec</code>"
     },
     "metadata": {},
     "output_type": "display_data"
    },
    {
     "data": {
      "text/plain": "<IPython.core.display.HTML object>",
      "text/html": "Syncing run <strong><a href='https://wandb.ai/00kwonsm/homework03_mnist/runs/fknzcgec' target=\"_blank\">2023-11-17_01-05-39</a></strong> to <a href='https://wandb.ai/00kwonsm/homework03_mnist' target=\"_blank\">Weights & Biases</a> (<a href='https://wandb.me/run' target=\"_blank\">docs</a>)<br/>"
     },
     "metadata": {},
     "output_type": "display_data"
    },
    {
     "data": {
      "text/plain": "<IPython.core.display.HTML object>",
      "text/html": " View project at <a href='https://wandb.ai/00kwonsm/homework03_mnist' target=\"_blank\">https://wandb.ai/00kwonsm/homework03_mnist</a>"
     },
     "metadata": {},
     "output_type": "display_data"
    },
    {
     "data": {
      "text/plain": "<IPython.core.display.HTML object>",
      "text/html": " View run at <a href='https://wandb.ai/00kwonsm/homework03_mnist/runs/fknzcgec' target=\"_blank\">https://wandb.ai/00kwonsm/homework03_mnist/runs/fknzcgec</a>"
     },
     "metadata": {},
     "output_type": "display_data"
    },
    {
     "name": "stdout",
     "output_type": "stream",
     "text": [
      "Namespace(wandb=True, batch_size=64, epochs=10000, learning_rate=0.0001, validation_intervals=10, early_stop_patience=10, early_stop_delta=1e-05, weight_decay=0.005, dropout=False)\n",
      "{'epochs': 10000, 'batch_size': 64, 'validation_intervals': 10, 'learning_rate': 0.0001, 'early_stop_patience': 10, 'early_stop_delta': 1e-05, 'weight_decay': 0.005}\n",
      "Training on device cuda:0.\n",
      "Num Train Samples:  55000\n",
      "Num Validation Samples:  5000\n",
      "Sample Shape:  torch.Size([1, 28, 28])\n",
      "Number of Data Loading Workers: 12\n",
      "\n",
      "Num Test Samples:  10000\n",
      "Sample Shape:  torch.Size([1, 28, 28])\n",
      "------------------------\n",
      "mean :  tensor(0.2859)\n",
      "variance tensor(0.1246)\n",
      "------------------------\n",
      "[Epoch   1] T_loss: 1.15896, T_accuracy: 64.8927 | V_loss: 0.82624, V_accuracy: 73.0400 | Early stopping is stated! | T_time: 00:00:31, T_speed: 0.032\n",
      "[Epoch  10] T_loss: 0.40817, T_accuracy: 85.4982 | V_loss: 0.36991, V_accuracy: 86.3000 | V_loss decreased (0.82624 --> 0.36991). Saving model... | T_time: 00:03:51, T_speed: 0.043\n",
      "[Epoch  20] T_loss: 0.34643, T_accuracy: 87.8909 | V_loss: 0.31274, V_accuracy: 88.7400 | V_loss decreased (0.36991 --> 0.31274). Saving model... | T_time: 00:07:35, T_speed: 0.044\n",
      "[Epoch  30] T_loss: 0.32008, T_accuracy: 88.9018 | V_loss: 0.28063, V_accuracy: 89.9800 | V_loss decreased (0.31274 --> 0.28063). Saving model... | T_time: 00:11:17, T_speed: 0.044\n",
      "[Epoch  40] T_loss: 0.30250, T_accuracy: 89.5309 | V_loss: 0.27157, V_accuracy: 90.0600 | V_loss decreased (0.28063 --> 0.27157). Saving model... | T_time: 00:15:00, T_speed: 0.044\n",
      "[Epoch  50] T_loss: 0.29494, T_accuracy: 89.8473 | V_loss: 0.27275, V_accuracy: 90.4000 | Early stopping counter: 1 out of 10 | T_time: 00:18:42, T_speed: 0.045\n",
      "[Epoch  60] T_loss: 0.28577, T_accuracy: 90.1291 | V_loss: 0.25866, V_accuracy: 90.4400 | V_loss decreased (0.27157 --> 0.25866). Saving model... | T_time: 00:22:23, T_speed: 0.045\n",
      "[Epoch  70] T_loss: 0.27839, T_accuracy: 90.3818 | V_loss: 0.25629, V_accuracy: 90.9600 | V_loss decreased (0.25866 --> 0.25629). Saving model... | T_time: 00:26:07, T_speed: 0.045\n",
      "[Epoch  80] T_loss: 0.27550, T_accuracy: 90.5455 | V_loss: 0.25238, V_accuracy: 90.8600 | V_loss decreased (0.25629 --> 0.25238). Saving model... | T_time: 00:29:49, T_speed: 0.045\n",
      "[Epoch  90] T_loss: 0.26995, T_accuracy: 90.5927 | V_loss: 0.25036, V_accuracy: 91.2400 | V_loss decreased (0.25238 --> 0.25036). Saving model... | T_time: 00:33:34, T_speed: 0.045\n",
      "[Epoch 100] T_loss: 0.26963, T_accuracy: 90.6418 | V_loss: 0.24799, V_accuracy: 91.1800 | V_loss decreased (0.25036 --> 0.24799). Saving model... | T_time: 00:37:29, T_speed: 0.044\n",
      "[Epoch 110] T_loss: 0.26691, T_accuracy: 90.7309 | V_loss: 0.25676, V_accuracy: 91.0200 | Early stopping counter: 1 out of 10 | T_time: 00:41:24, T_speed: 0.044\n",
      "[Epoch 120] T_loss: 0.26069, T_accuracy: 91.0527 | V_loss: 0.24821, V_accuracy: 91.2200 | Early stopping counter: 2 out of 10 | T_time: 00:45:20, T_speed: 0.044\n",
      "[Epoch 130] T_loss: 0.26074, T_accuracy: 91.1527 | V_loss: 0.24898, V_accuracy: 91.2600 | Early stopping counter: 3 out of 10 | T_time: 00:49:14, T_speed: 0.044\n",
      "[Epoch 140] T_loss: 0.25866, T_accuracy: 91.2073 | V_loss: 0.24617, V_accuracy: 91.0800 | V_loss decreased (0.24799 --> 0.24617). Saving model... | T_time: 00:53:08, T_speed: 0.044\n",
      "[Epoch 150] T_loss: 0.25574, T_accuracy: 91.2345 | V_loss: 0.24522, V_accuracy: 91.4200 | V_loss decreased (0.24617 --> 0.24522). Saving model... | T_time: 00:57:02, T_speed: 0.044\n",
      "[Epoch 160] T_loss: 0.25535, T_accuracy: 91.2291 | V_loss: 0.24158, V_accuracy: 91.5800 | V_loss decreased (0.24522 --> 0.24158). Saving model... | T_time: 01:01:03, T_speed: 0.044\n",
      "[Epoch 170] T_loss: 0.25428, T_accuracy: 91.1982 | V_loss: 0.25187, V_accuracy: 91.0000 | Early stopping counter: 1 out of 10 | T_time: 01:04:56, T_speed: 0.044\n",
      "[Epoch 180] T_loss: 0.25015, T_accuracy: 91.4527 | V_loss: 0.24339, V_accuracy: 91.1800 | Early stopping counter: 2 out of 10 | T_time: 01:08:51, T_speed: 0.044\n",
      "[Epoch 190] T_loss: 0.24928, T_accuracy: 91.4927 | V_loss: 0.24204, V_accuracy: 90.9400 | Early stopping counter: 3 out of 10 | T_time: 01:12:50, T_speed: 0.043\n",
      "[Epoch 200] T_loss: 0.25258, T_accuracy: 91.3382 | V_loss: 0.24632, V_accuracy: 91.2000 | Early stopping counter: 4 out of 10 | T_time: 01:16:50, T_speed: 0.043\n",
      "[Epoch 210] T_loss: 0.25093, T_accuracy: 91.2127 | V_loss: 0.24729, V_accuracy: 91.2200 | Early stopping counter: 5 out of 10 | T_time: 01:20:48, T_speed: 0.043\n",
      "[Epoch 220] T_loss: 0.24764, T_accuracy: 91.5727 | V_loss: 0.24658, V_accuracy: 90.8200 | Early stopping counter: 6 out of 10 | T_time: 01:24:32, T_speed: 0.043\n",
      "[Epoch 230] T_loss: 0.24898, T_accuracy: 91.4418 | V_loss: 0.24608, V_accuracy: 91.2000 | Early stopping counter: 7 out of 10 | T_time: 01:28:15, T_speed: 0.043\n",
      "[Epoch 240] T_loss: 0.24809, T_accuracy: 91.4709 | V_loss: 0.24114, V_accuracy: 91.7000 | V_loss decreased (0.24158 --> 0.24114). Saving model... | T_time: 01:31:58, T_speed: 0.043\n",
      "[Epoch 250] T_loss: 0.24803, T_accuracy: 91.4836 | V_loss: 0.24780, V_accuracy: 90.8400 | Early stopping counter: 1 out of 10 | T_time: 01:35:40, T_speed: 0.044\n",
      "[Epoch 260] T_loss: 0.24509, T_accuracy: 91.6255 | V_loss: 0.24069, V_accuracy: 91.1800 | V_loss decreased (0.24114 --> 0.24069). Saving model... | T_time: 01:39:22, T_speed: 0.044\n",
      "[Epoch 270] T_loss: 0.24485, T_accuracy: 91.7273 | V_loss: 0.24243, V_accuracy: 91.4400 | Early stopping counter: 1 out of 10 | T_time: 01:43:04, T_speed: 0.044\n",
      "[Epoch 280] T_loss: 0.24690, T_accuracy: 91.4727 | V_loss: 0.24329, V_accuracy: 91.4800 | Early stopping counter: 2 out of 10 | T_time: 01:46:46, T_speed: 0.044\n",
      "[Epoch 290] T_loss: 0.24288, T_accuracy: 91.6818 | V_loss: 0.24883, V_accuracy: 90.9800 | Early stopping counter: 3 out of 10 | T_time: 01:50:28, T_speed: 0.044\n",
      "[Epoch 300] T_loss: 0.24545, T_accuracy: 91.5055 | V_loss: 0.24133, V_accuracy: 91.0600 | Early stopping counter: 4 out of 10 | T_time: 01:54:10, T_speed: 0.044\n",
      "[Epoch 310] T_loss: 0.24198, T_accuracy: 91.7200 | V_loss: 0.24083, V_accuracy: 91.1600 | Early stopping counter: 5 out of 10 | T_time: 01:57:52, T_speed: 0.044\n",
      "[Epoch 320] T_loss: 0.24102, T_accuracy: 91.7836 | V_loss: 0.23715, V_accuracy: 91.3200 | V_loss decreased (0.24069 --> 0.23715). Saving model... | T_time: 02:01:34, T_speed: 0.044\n",
      "[Epoch 330] T_loss: 0.24098, T_accuracy: 91.7909 | V_loss: 0.24345, V_accuracy: 91.2200 | Early stopping counter: 1 out of 10 | T_time: 02:05:17, T_speed: 0.044\n",
      "[Epoch 340] T_loss: 0.24093, T_accuracy: 91.8618 | V_loss: 0.23644, V_accuracy: 91.4000 | V_loss decreased (0.23715 --> 0.23644). Saving model... | T_time: 02:08:58, T_speed: 0.044\n",
      "[Epoch 350] T_loss: 0.23944, T_accuracy: 91.7455 | V_loss: 0.25289, V_accuracy: 91.0200 | Early stopping counter: 1 out of 10 | T_time: 02:12:40, T_speed: 0.044\n",
      "[Epoch 360] T_loss: 0.23954, T_accuracy: 91.8327 | V_loss: 0.23466, V_accuracy: 91.9600 | V_loss decreased (0.23644 --> 0.23466). Saving model... | T_time: 02:16:22, T_speed: 0.044\n",
      "[Epoch 370] T_loss: 0.23879, T_accuracy: 91.8436 | V_loss: 0.24706, V_accuracy: 91.0200 | Early stopping counter: 1 out of 10 | T_time: 02:20:04, T_speed: 0.044\n",
      "[Epoch 380] T_loss: 0.23886, T_accuracy: 91.8982 | V_loss: 0.24114, V_accuracy: 91.1800 | Early stopping counter: 2 out of 10 | T_time: 02:23:46, T_speed: 0.044\n",
      "[Epoch 390] T_loss: 0.24006, T_accuracy: 91.8018 | V_loss: 0.24808, V_accuracy: 90.9800 | Early stopping counter: 3 out of 10 | T_time: 02:27:29, T_speed: 0.044\n",
      "[Epoch 400] T_loss: 0.23720, T_accuracy: 91.8964 | V_loss: 0.24310, V_accuracy: 91.3200 | Early stopping counter: 4 out of 10 | T_time: 02:31:11, T_speed: 0.044\n",
      "[Epoch 410] T_loss: 0.23721, T_accuracy: 91.9000 | V_loss: 0.24177, V_accuracy: 91.1400 | Early stopping counter: 5 out of 10 | T_time: 02:34:53, T_speed: 0.044\n",
      "[Epoch 420] T_loss: 0.24049, T_accuracy: 91.8273 | V_loss: 0.24150, V_accuracy: 91.3400 | Early stopping counter: 6 out of 10 | T_time: 02:38:36, T_speed: 0.044\n",
      "[Epoch 430] T_loss: 0.23700, T_accuracy: 91.9218 | V_loss: 0.24708, V_accuracy: 91.2600 | Early stopping counter: 7 out of 10 | T_time: 02:42:18, T_speed: 0.044\n",
      "[Epoch 440] T_loss: 0.23512, T_accuracy: 91.9036 | V_loss: 0.23227, V_accuracy: 91.4600 | V_loss decreased (0.23466 --> 0.23227). Saving model... | T_time: 02:46:01, T_speed: 0.044\n",
      "[Epoch 450] T_loss: 0.23893, T_accuracy: 91.8945 | V_loss: 0.23711, V_accuracy: 91.3400 | Early stopping counter: 1 out of 10 | T_time: 02:49:43, T_speed: 0.044\n",
      "[Epoch 460] T_loss: 0.23700, T_accuracy: 91.8764 | V_loss: 0.23345, V_accuracy: 91.4000 | Early stopping counter: 2 out of 10 | T_time: 02:53:25, T_speed: 0.044\n",
      "[Epoch 470] T_loss: 0.23672, T_accuracy: 91.8818 | V_loss: 0.24388, V_accuracy: 91.1200 | Early stopping counter: 3 out of 10 | T_time: 02:57:14, T_speed: 0.044\n",
      "[Epoch 480] T_loss: 0.23688, T_accuracy: 91.8309 | V_loss: 0.24825, V_accuracy: 91.0200 | Early stopping counter: 4 out of 10 | T_time: 03:00:57, T_speed: 0.044\n",
      "[Epoch 490] T_loss: 0.23605, T_accuracy: 91.8709 | V_loss: 0.23715, V_accuracy: 91.1600 | Early stopping counter: 5 out of 10 | T_time: 03:04:39, T_speed: 0.044\n",
      "[Epoch 500] T_loss: 0.23656, T_accuracy: 91.9545 | V_loss: 0.23351, V_accuracy: 91.2400 | Early stopping counter: 6 out of 10 | T_time: 03:08:21, T_speed: 0.044\n",
      "[Epoch 510] T_loss: 0.23451, T_accuracy: 92.0800 | V_loss: 0.23511, V_accuracy: 91.7000 | Early stopping counter: 7 out of 10 | T_time: 03:12:03, T_speed: 0.044\n",
      "[Epoch 520] T_loss: 0.23585, T_accuracy: 91.8691 | V_loss: 0.24424, V_accuracy: 91.1800 | Early stopping counter: 8 out of 10 | T_time: 03:15:45, T_speed: 0.044\n",
      "[Epoch 530] T_loss: 0.23370, T_accuracy: 92.0873 | V_loss: 0.23779, V_accuracy: 91.5000 | Early stopping counter: 9 out of 10 | T_time: 03:19:27, T_speed: 0.044\n",
      "[Epoch 540] T_loss: 0.23739, T_accuracy: 91.9164 | V_loss: 0.23546, V_accuracy: 91.6000 | Early stopping counter: 10 out of 10 *** TRAIN EARLY STOPPED! *** | T_time: 03:23:09, T_speed: 0.044\n"
     ]
    },
    {
     "data": {
      "text/plain": "<IPython.core.display.HTML object>",
      "text/html": "Waiting for W&B process to finish... <strong style=\"color:green\">(success).</strong>"
     },
     "metadata": {},
     "output_type": "display_data"
    },
    {
     "data": {
      "text/plain": "<IPython.core.display.HTML object>",
      "text/html": "<style>\n    table.wandb td:nth-child(1) { padding: 0 10px; text-align: left ; width: auto;} td:nth-child(2) {text-align: left ; width: 100%}\n    .wandb-row { display: flex; flex-direction: row; flex-wrap: wrap; justify-content: flex-start; width: 100% }\n    .wandb-col { display: flex; flex-direction: column; flex-basis: 100%; flex: 1; padding: 10px; }\n    </style>\n<div class=\"wandb-row\"><div class=\"wandb-col\"><h3>Run history:</h3><br/><table class=\"wandb\"><tr><td>Epoch</td><td>▁▁▁▂▂▂▂▂▂▃▃▃▃▃▃▄▄▄▄▄▄▅▅▅▅▅▆▆▆▆▆▆▇▇▇▇▇███</td></tr><tr><td>Training accuracy (%)</td><td>▁▆▇▇▇▇██████████████████████████████████</td></tr><tr><td>Training loss</td><td>█▂▂▂▁▁▁▁▁▁▁▁▁▁▁▁▁▁▁▁▁▁▁▁▁▁▁▁▁▁▁▁▁▁▁▁▁▁▁▁</td></tr><tr><td>Training speed (epochs/sec.)</td><td>▁▇██████████▇▇▇▇▇▇▇▇▇▇▇█████████████████</td></tr><tr><td>Validation accuracy (%)</td><td>▁▆▇▇▇▇██████████████████████████████████</td></tr><tr><td>Validation loss</td><td>█▃▂▁▁▁▁▁▁▁▁▁▁▁▁▁▁▁▁▁▁▁▁▁▁▁▁▁▁▁▁▁▁▁▁▁▁▁▁▁</td></tr></table><br/></div><div class=\"wandb-col\"><h3>Run summary:</h3><br/><table class=\"wandb\"><tr><td>Epoch</td><td>540</td></tr><tr><td>Training accuracy (%)</td><td>91.91636</td></tr><tr><td>Training loss</td><td>0.23739</td></tr><tr><td>Training speed (epochs/sec.)</td><td>0.0443</td></tr><tr><td>Validation accuracy (%)</td><td>91.6</td></tr><tr><td>Validation loss</td><td>0.23546</td></tr></table><br/></div></div>"
     },
     "metadata": {},
     "output_type": "display_data"
    },
    {
     "data": {
      "text/plain": "<IPython.core.display.HTML object>",
      "text/html": " View run <strong style=\"color:#cdcd00\">2023-11-17_01-05-39</strong> at: <a href='https://wandb.ai/00kwonsm/homework03_mnist/runs/fknzcgec' target=\"_blank\">https://wandb.ai/00kwonsm/homework03_mnist/runs/fknzcgec</a><br/> View job at <a href='https://wandb.ai/00kwonsm/homework03_mnist/jobs/QXJ0aWZhY3RDb2xsZWN0aW9uOjExNjU0MzY0Ng==/version_details/v0' target=\"_blank\">https://wandb.ai/00kwonsm/homework03_mnist/jobs/QXJ0aWZhY3RDb2xsZWN0aW9uOjExNjU0MzY0Ng==/version_details/v0</a><br/>Synced 5 W&B file(s), 0 media file(s), 2 artifact file(s) and 0 other file(s)"
     },
     "metadata": {},
     "output_type": "display_data"
    },
    {
     "data": {
      "text/plain": "<IPython.core.display.HTML object>",
      "text/html": "Find logs at: <code>.\\wandb\\run-20231117_010542-fknzcgec\\logs</code>"
     },
     "metadata": {},
     "output_type": "display_data"
    }
   ],
   "source": [
    "if __name__ == \"__main__\":\n",
    "  parser = get_parser()\n",
    "  \n",
    "  sys.argv = [\"script.py\", \"--wandb\", \"-b\", \"64\", \"-r\", \"1e-4\", \"-v\", \"10\", \"-w\", \"0.005\"]\n",
    "  args = parser.parse_args()\n",
    "  main(args)  \n",
    "  "
   ],
   "metadata": {
    "collapsed": false,
    "ExecuteTime": {
     "end_time": "2023-11-16T19:29:24.684192700Z",
     "start_time": "2023-11-16T16:05:39.980207800Z"
    }
   },
   "id": "78c92e9382c769b6"
  },
  {
   "cell_type": "markdown",
   "source": [
    "## ClassificationTester"
   ],
   "metadata": {
    "collapsed": false
   },
   "id": "6d0672d5c6e4d348"
  },
  {
   "cell_type": "code",
   "execution_count": 26,
   "outputs": [],
   "source": [
    "class ClassificationTester:\n",
    "  def __init__(self, project_name, model, test_data_loader, transforms, checkpoint_file_path):\n",
    "    self.project_name = project_name\n",
    "    self.model = model\n",
    "    self.test_data_loader = test_data_loader\n",
    "    self.transforms = transforms\n",
    "\n",
    "    self.latest_file_path = os.path.join(\n",
    "      checkpoint_file_path, f\"{project_name}_checkpoint_latest.pt\"\n",
    "    )\n",
    "\n",
    "    print(\"MODEL FILE: {0}\".format(self.latest_file_path))\n",
    "\n",
    "    self.model.load_state_dict(torch.load(self.latest_file_path, map_location=torch.device('cpu')))\n",
    "\n",
    "  def test(self):\n",
    "    self.model.eval()    # Explained at 'Diverse Techniques' section\n",
    "\n",
    "    num_corrects_test = 0\n",
    "    num_tested_samples = 0\n",
    "\n",
    "    with torch.no_grad():\n",
    "      for test_batch in self.test_data_loader:\n",
    "        input_test, target_test = test_batch\n",
    "\n",
    "        input_test = self.transforms(input_test)\n",
    "\n",
    "        output_test = self.model(input_test)\n",
    "\n",
    "        predicted_test = torch.argmax(output_test, dim=1)\n",
    "        num_corrects_test += torch.sum(torch.eq(predicted_test, target_test))\n",
    "\n",
    "        num_tested_samples += len(input_test)\n",
    "\n",
    "      test_accuracy = 100.0 * num_corrects_test / num_tested_samples\n",
    "\n",
    "    print(f\"TEST RESULTS: {test_accuracy:6.3f}%\")\n",
    "\n",
    "  def test_single(self, input_test):\n",
    "    self.model.eval()    # Explained at 'Diverse Techniques' section\n",
    "\n",
    "    with torch.no_grad():\n",
    "      input_test = self.transforms(input_test)\n",
    "\n",
    "      output_test = self.model(input_test)\n",
    "      predicted_test = torch.argmax(output_test, dim=1)\n",
    "\n",
    "    return predicted_test.item()"
   ],
   "metadata": {
    "collapsed": false,
    "ExecuteTime": {
     "end_time": "2023-11-17T08:18:20.130883300Z",
     "start_time": "2023-11-17T08:18:20.101248200Z"
    }
   },
   "id": "f627a514c8f1a59"
  },
  {
   "cell_type": "markdown",
   "source": [
    "## Test Entry"
   ],
   "metadata": {
    "collapsed": false
   },
   "id": "6f10c34f9d23bc19"
  },
  {
   "cell_type": "code",
   "execution_count": 75,
   "outputs": [],
   "source": [
    "def main_t():\n",
    "  project_name = \"homework03_mnist\"\n",
    "\n",
    "  f_mnist_test_images, test_data_loader, f_mnist_transforms = get_fashion_mnist_test_data()\n",
    "\n",
    "  model = get_model()\n",
    "\n",
    "  classification_tester = ClassificationTester(project_name, model, test_data_loader, f_mnist_transforms, CHECKPOINT_FILE_PATH)\n",
    "  classification_tester.test()\n",
    "  print()\n",
    "\n",
    "  for i in range(10):\n",
    "    index = randint(0, len(f_mnist_test_images))\n",
    "    img, label = f_mnist_test_images[index]\n",
    "    print(\"     LABEL:\", label)\n",
    "    # torch.tensor(np.array(mnist_test_images[0][0])).unsqueeze(dim=0).unsqueeze(dim=0).shape: (1, 1, 28, 28)\n",
    "    output = classification_tester.test_single(\n",
    "      torch.tensor(np.array(f_mnist_test_images[index][0])).unsqueeze(dim=0).unsqueeze(dim=0)\n",
    "    )\n",
    "    print(\"PREDICTION:\", output)\n",
    "    plt.imshow(img)\n",
    "    plt.show()\n"
   ],
   "metadata": {
    "collapsed": false,
    "ExecuteTime": {
     "end_time": "2023-11-17T09:05:25.992508100Z",
     "start_time": "2023-11-17T09:05:25.968608500Z"
    }
   },
   "id": "df94310d5dc60dad"
  },
  {
   "cell_type": "markdown",
   "source": [
    "# Network Model Analysis"
   ],
   "metadata": {
    "collapsed": false
   },
   "id": "3d57be7a605a77"
  },
  {
   "cell_type": "markdown",
   "source": [
    "![](./images/NetworkModel.png)\n",
    "네트워크 구성은 위와 같다. Convolution & Pooling 연산을 통해서 width와 height를 2번 줄인 다음에 Fully Connect Network를 통해서 predict한다.\n",
    "이때 transform으로 정규분포에 따르게 변경하고 진행하는데 ReLU activation function으로 하기에 x <= 0 일 경우 vanishing gradient problem이 발생할 수 있다.\n",
    "따라서 Batch Normalization을 통해서 shift, scale 등을 통해 이 문제를 해결할 수 있다.\n",
    "\n",
    "그리고 Convolution Block의 순서는 Conv->BatchNorm->Relu->Maxpooling 순으로 했다.\n",
    "flatten을 진행한 후에 Fully Connected network의 경우 전통적인 방식을 따라서 했다. (이유는 밑 참조)\n",
    "\n",
    "\n",
    "![](./images/initial%20model.png)\n",
    "초기에 네트워크를 구성할 때에는 위와 같이 Convolution Block을 Convolution -> MaxPooling -> BatchNorm -> ReLU 순서로 했었다.\n",
    "하지만 하이퍼 파라미터를 계속해서 조정해도 89%대에서 잘 안 넘어가는 문제가 있었다.\n",
    "그래서 어떻게 Network를 구성하는게 좋을지 고민을 하게 되었다. \n",
    "그렇게 찾아본 결과 일반적으로 Pooling 연산은 activation 연산을 통해서 값을 얻고 Pooling을 통해서 중요한 특징만 남기게 필터링한다고 한다.\n",
    "이에 반해 초기 버전에서는 convolution으로 데이터를 손실시키고 activation function을 거치기 때문에 오히려 손실만 발생하지 않았나 싶다.\n",
    "\n",
    "초기에 flatten 후 진행하는 것도 Global Pooling을 통하면 네트워크를 크기를 줄일 수 있기 때문에 좋지 않을까 싶었다.\n",
    "하지만 이것 또한 좋은 성능으로 이어지지 않은 것 같다. \n",
    "그 이유로 짐작하기로는 이전 Convolution Block이 shallow 하기 때문에 선형적인 것을 비선형 적으로 만드는 연산이 너무 적지 않았나 싶다.\n",
    "따라서 기존 전통적인 방식으로 FCN->FCN->FCN 방식을 차용하지만 BatchNorm을 추가하여서 vanishing gradient problem을 방지하고, 더 좋은 결과로 낼 수 있게 설계를 진행하였다."
   ],
   "metadata": {
    "collapsed": false
   },
   "id": "edfcecc58df9aa75"
  },
  {
   "cell_type": "markdown",
   "source": [
    "# Problem 01"
   ],
   "metadata": {
    "collapsed": false
   },
   "id": "b4c0d7f1d9ac6541"
  },
  {
   "cell_type": "markdown",
   "source": [
    "![](./images/problem01_code.png)\n",
    "\n",
    "![](./images/problem01.png)\n"
   ],
   "metadata": {
    "collapsed": false
   },
   "id": "a015215ce1f7402a"
  },
  {
   "cell_type": "markdown",
   "source": [
    "mean과 variance는 train 이미지 데이터 셋을 기준으로 구한다.\n",
    "float의 부동소수점 문제로 인하여 data load를 할 때마다 매번 달라진다. \n",
    "하지만 일반적으로는 위와 같이 mean은 0.2860, variance는 0.1246으로 나온다."
   ],
   "metadata": {
    "collapsed": false
   },
   "id": "3a5d8f6c33e2a30e"
  },
  {
   "cell_type": "markdown",
   "source": [
    "# Problem 02"
   ],
   "metadata": {
    "collapsed": false
   },
   "id": "b6202211600b334b"
  },
  {
   "cell_type": "markdown",
   "source": [
    "wandb.ai link : https://wandb.ai/00kwonsm/homework03_mnist?workspace=user-00kwonsm\n",
    "\n",
    "![](./images/problem02_wandb%20loss.png)\n",
    "![](./images/problem02_wandb%20accuracy.png)\n",
    "![](./images/problem02_run%20history.png)"
   ],
   "metadata": {
    "collapsed": false
   },
   "id": "2536a589066ab102"
  },
  {
   "cell_type": "code",
   "execution_count": 69,
   "outputs": [
    {
     "data": {
      "text/plain": "==========================================================================================\nLayer (type:depth-idx)                   Output Shape              Param #\n==========================================================================================\nMyModel                                  [1, 10]                   --\n├─Sequential: 1-1                        [1, 10]                   --\n│    └─Conv2d: 2-1                       [1, 8, 24, 24]            208\n│    └─BatchNorm2d: 2-2                  [1, 8, 24, 24]            16\n│    └─ReLU: 2-3                         [1, 8, 24, 24]            --\n│    └─MaxPool2d: 2-4                    [1, 8, 12, 12]            --\n│    └─Dropout: 2-5                      [1, 8, 12, 12]            --\n│    └─Conv2d: 2-6                       [1, 16, 8, 8]             3,216\n│    └─BatchNorm2d: 2-7                  [1, 16, 8, 8]             32\n│    └─ReLU: 2-8                         [1, 16, 8, 8]             --\n│    └─MaxPool2d: 2-9                    [1, 16, 4, 4]             --\n│    └─Flatten: 2-10                     [1, 256]                  --\n│    └─Linear: 2-11                      [1, 128]                  32,896\n│    └─BatchNorm1d: 2-12                 [1, 128]                  256\n│    └─ReLU: 2-13                        [1, 128]                  --\n│    └─Linear: 2-14                      [1, 64]                   8,256\n│    └─BatchNorm1d: 2-15                 [1, 64]                   128\n│    └─ReLU: 2-16                        [1, 64]                   --\n│    └─Linear: 2-17                      [1, 10]                   650\n==========================================================================================\nTotal params: 45,658\nTrainable params: 45,658\nNon-trainable params: 0\nTotal mult-adds (M): 0.37\n==========================================================================================\nInput size (MB): 0.00\nForward/backward pass size (MB): 0.09\nParams size (MB): 0.18\nEstimated Total Size (MB): 0.28\n=========================================================================================="
     },
     "execution_count": 69,
     "metadata": {},
     "output_type": "execute_result"
    }
   ],
   "source": [
    "summary_model = get_model()\n",
    "summary(model=summary_model, input_size=(1,1,28,28))"
   ],
   "metadata": {
    "collapsed": false,
    "ExecuteTime": {
     "end_time": "2023-11-17T09:02:21.290726700Z",
     "start_time": "2023-11-17T09:02:21.241012900Z"
    }
   },
   "id": "ae015fa361c61568"
  },
  {
   "cell_type": "markdown",
   "source": [
    "Hyper Parameter\n",
    "  * Learning Rate : 1e-4\n",
    "  * Batch Size :  64\n",
    "  * Early Stop Patience : 10\n",
    "  * Weight Decay Value : 0.005\n",
    "  * Normalization Type : Batch Normalization\n",
    "  * Dropout Rate : 0.5"
   ],
   "metadata": {
    "collapsed": false
   },
   "id": "70fdc6f585c57940"
  },
  {
   "cell_type": "markdown",
   "source": [
    "GPU 연산을 많이 사용하지 않았기 때문에 Batch Size를 1024 2048 5000 등 늘려서 실험해본 적이 있었다.\n",
    "하지만 이렇게 할 경우 너무 많은 케이스를 보고 feedback하기 때문인지 학습이 느리게 진행되고 잘 안되는 것을 볼 수 있었다.\n",
    "이에 반해 Batch size를 64로 하니까 빠르게 gradient가 좋은 쪽으로 가는 것을 볼 수 있었다. 따라서 batch size를 64로 진행하였다.\n",
    "\n",
    "Learning rate의 경우 1e-2, 1e-3, 1e-4로 조금씩 모델도 수정해보면서 확인해본 결과 1e-4가 가장 좋은 결과가 나와서 유지했다.\n"
   ],
   "metadata": {
    "collapsed": false
   },
   "id": "d86a15b4409d4e48"
  },
  {
   "cell_type": "markdown",
   "source": [
    "## Problem 03"
   ],
   "metadata": {
    "collapsed": false
   },
   "id": "fd23221a317fc099"
  },
  {
   "cell_type": "code",
   "execution_count": 74,
   "outputs": [
    {
     "name": "stdout",
     "output_type": "stream",
     "text": [
      "Num Test Samples:  10000\n",
      "Sample Shape:  torch.Size([1, 28, 28])\n",
      "MODEL FILE: C:\\Users\\00kwo\\Desktop\\checkpoints\\homework03_mnist_checkpoint_latest.pt\n",
      "TEST RESULTS: 91.090%\n"
     ]
    }
   ],
   "source": [
    "  project_name = \"homework03_mnist\"\n",
    "\n",
    "  f_mnist_test_images, test_data_loader, f_mnist_transforms = get_fashion_mnist_test_data()\n",
    "\n",
    "  model = get_model()\n",
    "\n",
    "  classification_tester = ClassificationTester(project_name, model, test_data_loader, f_mnist_transforms, CHECKPOINT_FILE_PATH)\n",
    "  classification_tester.test()"
   ],
   "metadata": {
    "collapsed": false,
    "ExecuteTime": {
     "end_time": "2023-11-17T09:04:16.158360500Z",
     "start_time": "2023-11-17T09:04:15.142261200Z"
    }
   },
   "id": "8640c3dfe1052f9b"
  },
  {
   "cell_type": "markdown",
   "source": [],
   "metadata": {
    "collapsed": false
   },
   "id": "1ca1171468de03d9"
  },
  {
   "cell_type": "markdown",
   "source": [
    "# Problem 04"
   ],
   "metadata": {
    "collapsed": false
   },
   "id": "15921860ca531aaf"
  },
  {
   "cell_type": "code",
   "execution_count": 77,
   "outputs": [
    {
     "name": "stdout",
     "output_type": "stream",
     "text": [
      "Num Test Samples:  10000\n",
      "Sample Shape:  torch.Size([1, 28, 28])\n",
      "MODEL FILE: C:\\Users\\00kwo\\Desktop\\checkpoints\\homework03_mnist_checkpoint_latest.pt\n",
      "TEST RESULTS: 91.090%\n",
      "\n",
      "     LABEL: 0\n",
      "PREDICTION: 0\n"
     ]
    },
    {
     "data": {
      "text/plain": "<Figure size 640x480 with 1 Axes>",
      "image/png": "[encoded data removed]"
     },
     "metadata": {},
     "output_type": "display_data"
    },
    {
     "name": "stdout",
     "output_type": "stream",
     "text": [
      "     LABEL: 7\n",
      "PREDICTION: 7\n"
     ]
    },
    {
     "data": {
      "text/plain": "<Figure size 640x480 with 1 Axes>",
      "image/png": "[encoded data removed]"
     },
     "metadata": {},
     "output_type": "display_data"
    },
    {
     "name": "stdout",
     "output_type": "stream",
     "text": [
      "     LABEL: 8\n",
      "PREDICTION: 8\n"
     ]
    },
    {
     "data": {
      "text/plain": "<Figure size 640x480 with 1 Axes>",
      "image/png": "[encoded data removed]"
     },
     "metadata": {},
     "output_type": "display_data"
    },
    {
     "name": "stdout",
     "output_type": "stream",
     "text": [
      "     LABEL: 2\n",
      "PREDICTION: 2\n"
     ]
    },
    {
     "data": {
      "text/plain": "<Figure size 640x480 with 1 Axes>",
      "image/png": "[encoded data removed]"
     },
     "metadata": {},
     "output_type": "display_data"
    },
    {
     "name": "stdout",
     "output_type": "stream",
     "text": [
      "     LABEL: 5\n",
      "PREDICTION: 5\n"
     ]
    },
    {
     "data": {
      "text/plain": "<Figure size 640x480 with 1 Axes>",
      "image/png": "[encoded data removed]"
     },
     "metadata": {},
     "output_type": "display_data"
    },
    {
     "name": "stdout",
     "output_type": "stream",
     "text": [
      "     LABEL: 0\n",
      "PREDICTION: 0\n"
     ]
    },
    {
     "data": {
      "text/plain": "<Figure size 640x480 with 1 Axes>",
      "image/png": "[encoded data removed]"
     },
     "metadata": {},
     "output_type": "display_data"
    },
    {
     "name": "stdout",
     "output_type": "stream",
     "text": [
      "     LABEL: 8\n",
      "PREDICTION: 8\n"
     ]
    },
    {
     "data": {
      "text/plain": "<Figure size 640x480 with 1 Axes>",
      "image/png": "[encoded data removed]"
     },
     "metadata": {},
     "output_type": "display_data"
    },
    {
     "name": "stdout",
     "output_type": "stream",
     "text": [
      "     LABEL: 0\n",
      "PREDICTION: 0\n"
     ]
    },
    {
     "data": {
      "text/plain": "<Figure size 640x480 with 1 Axes>",
      "image/png": "[encoded data removed]"
     },
     "metadata": {},
     "output_type": "display_data"
    },
    {
     "name": "stdout",
     "output_type": "stream",
     "text": [
      "     LABEL: 6\n",
      "PREDICTION: 2\n"
     ]
    },
    {
     "data": {
      "text/plain": "<Figure size 640x480 with 1 Axes>",
      "image/png": "[encoded data removed]"
     },
     "metadata": {},
     "output_type": "display_data"
    },
    {
     "name": "stdout",
     "output_type": "stream",
     "text": [
      "     LABEL: 5\n",
      "PREDICTION: 5\n"
     ]
    },
    {
     "data": {
      "text/plain": "<Figure size 640x480 with 1 Axes>",
      "image/png": "[encoded data removed]"
     },
     "metadata": {},
     "output_type": "display_data"
    }
   ],
   "source": [
    "if __name__ == \"__main__\":\n",
    "  main_t() "
   ],
   "metadata": {
    "collapsed": false,
    "ExecuteTime": {
     "end_time": "2023-11-17T09:05:48.789548100Z",
     "start_time": "2023-11-17T09:05:46.844414100Z"
    }
   },
   "id": "721c9ffc5fade9e6"
  },
  {
   "cell_type": "markdown",
   "source": [
    "내가 생각하는 성능이 더 좋게 나오지 않은 이유는 Network model이 shallow 하기 때문에 activation function이 적어 비선형적인 변화를 줄 수 없기 때문이라고 본다.\n",
    "\n",
    "![](./images/compare.png)\n",
    "\n",
    "실제 틀린 사진과 정답인 사진을 보면 사람이 보기에도 큰 차이를 느낄 수 없다는 것을 볼 수 있다.\n",
    "따라서 조금 더 deep하게 model을 만들 경우에 사람은 알 수 없지만 내부적으로 이를 잘 구분할 수 있는 모델이 만들어지지 않을까 싶다.\n",
    "물론 이것이 overfitting으로 판단될 수 있다는 문제가 있지만 데이터 셋의 해상도가 좋지 않다보니 발생하는 어쩔 수 없는 문제라고 생각이 든다."
   ],
   "metadata": {
    "collapsed": false
   },
   "id": "9f7ff81af386d15f"
  },
  {
   "cell_type": "markdown",
   "source": [
    "# 숙제 후기"
   ],
   "metadata": {
    "collapsed": false
   },
   "id": "1903ce6b4c08ec17"
  },
  {
   "cell_type": "markdown",
   "source": [
    "Accuracy 91%를 넘기기 위해서 여러 실험을 하기도 하고, 선배님들께 여쭤보기도 했다.\n",
    "작업관리자로 GPU 사용률을 확인해보았을 때 생각보다 GPU 자원을 얼마 쓰지 않았다.\n",
    "이에 대해서 여쭤보니까 일반적으로 local 환경에 맞춰서 자원을 대부분 쓰게끔 네트워크 모델을 짜는게 첫 번째 단계라고 한다.\n",
    "그리고 최적화 방법을 여러가지로 시도해 본 다음에 learning rate 등 하이퍼 파라미터를 수정해보면서 테스트 해보는게 좋을 것 같다고 하셨다.\n",
    "이를 통해서 GPU의 자원을 대부분 쓸 수 있게 네트워크 모델을 크게 만들고 이에 대해서 많은 테스트를 진행할 수 있었다.\n",
    "하지만 결과적으로 좋지 않은 결과가 나왔다. 여쭤본 결과 항상 파라미터가 많다고 좋은 것이 아니라 학습하는데도 파라미터 전부를 수정하느냐고 좋지 않을 수 있다는 말씀을 해주셨다.\n",
    "실제 task 자체가 크지 않기 때문에 자원을 전부 사용할 수 있게 Network를 짜는 것이 좋지 않다고 생각이 든다.\n",
    "\n",
    "그 다음으로 궁금했던 점으로는 pooling 혹은 convolution 연산을 하면 feature 수를 얼마나 늘려야 되는지 여쭤보았다.\n",
    "일반적으로는 pooling 시 데이터 손실이 발생하기 때문에 해상도가 절반으로 줄어들면 feature 수도 2배로 증가 시키는게 일반적이라고 하셨다.\n",
    "덧붙여 말씀해주시는 것으로는 본인의 연구 분야인 image resolution에서는 세부적인 특징점을 찾기 위해서 같은 이미지 h*w로 유지하신다고 하셨다.\n",
    "이에 반해 mnist train한 것과 같이 classification할 때는 어느정도 conv로 feature h*w를 줄이고서 하는게 성능이 더 좋을 것 같다고 하셨다. \n",
    "\n",
    "외에도 궁금한 점들을 여쭤보았고 답변을 들으면서 네트워크를 데이터 셋 및 task에 따라서 어떻게 만들어야 되는지 알 수 있는 시간이 되었다."
   ],
   "metadata": {
    "collapsed": false
   },
   "id": "aa7b0aae6a61d98"
  }
 ],
 "metadata": {
  "kernelspec": {
   "display_name": "Python 3",
   "language": "python",
   "name": "python3"
  },
  "language_info": {
   "codemirror_mode": {
    "name": "ipython",
    "version": 2
   },
   "file_extension": ".py",
   "mimetype": "text/x-python",
   "name": "python",
   "nbconvert_exporter": "python",
   "pygments_lexer": "ipython2",
   "version": "2.7.6"
  }
 },
 "nbformat": 4,
 "nbformat_minor": 5
}
